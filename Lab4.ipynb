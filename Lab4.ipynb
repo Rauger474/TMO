{
 "cells": [
  {
   "cell_type": "code",
   "execution_count": 40,
   "metadata": {
    "collapsed": true,
    "pycharm": {
     "is_executing": false
    }
   },
   "outputs": [],
   "source": [
    "import pandas as pd\n",
    "from typing import Dict, Tuple\n",
    "from scipy import stats\n",
    "from sklearn.datasets import load_iris, load_boston, load_wine\n",
    "from sklearn.model_selection import train_test_split, cross_val_score, cross_validate, GridSearchCV\n",
    "from sklearn.neighbors import KNeighborsRegressor, KNeighborsClassifier\n",
    "from sklearn.metrics import accuracy_score, balanced_accuracy_score\n",
    "from sklearn.metrics import plot_confusion_matrix\n",
    "from sklearn.metrics import precision_score, recall_score, f1_score, classification_report\n",
    "from sklearn.metrics import confusion_matrix\n",
    "from sklearn.metrics import mean_absolute_error, mean_squared_error, mean_squared_log_error, median_absolute_error, r2_score \n",
    "from sklearn.metrics import roc_curve, roc_auc_score\n",
    "import seaborn as sns\n",
    "import matplotlib.pyplot as plt\n",
    "%matplotlib inline \n",
    "sns.set(style=\"ticks\")"
   ]
  },
  {
   "cell_type": "code",
   "execution_count": 41,
   "metadata": {
    "pycharm": {
     "is_executing": false,
     "name": "#%%\n"
    }
   },
   "outputs": [],
   "source": [
    "wine = load_wine()"
   ]
  },
  {
   "cell_type": "code",
   "execution_count": 42,
   "metadata": {
    "pycharm": {
     "is_executing": false,
     "name": "#%%\n"
    }
   },
   "outputs": [
    {
     "data": {
      "text/plain": "['alcohol',\n 'malic_acid',\n 'ash',\n 'alcalinity_of_ash',\n 'magnesium',\n 'total_phenols',\n 'flavanoids',\n 'nonflavanoid_phenols',\n 'proanthocyanins',\n 'color_intensity',\n 'hue',\n 'od280/od315_of_diluted_wines',\n 'proline']"
     },
     "metadata": {},
     "output_type": "execute_result",
     "execution_count": 42
    }
   ],
   "source": [
    "# Наименования признаков\n",
    "wine.feature_names"
   ]
  },
  {
   "cell_type": "code",
   "execution_count": 43,
   "metadata": {
    "pycharm": {
     "is_executing": false,
     "name": "#%%\n"
    }
   },
   "outputs": [
    {
     "data": {
      "text/plain": "((178, 13), (178,))"
     },
     "metadata": {},
     "output_type": "execute_result",
     "execution_count": 43
    }
   ],
   "source": [
    "# Размер выборки\n",
    "wine.data.shape, wine.target.shape"
   ]
  },
  {
   "cell_type": "code",
   "execution_count": 44,
   "metadata": {
    "pycharm": {
     "is_executing": false,
     "name": "#%%\n"
    }
   },
   "outputs": [
    {
     "name": "stderr",
     "text": [
      "c:\\django_projects\\untitled\\venv\\lib\\site-packages\\ipykernel_launcher.py:2: FutureWarning: The pandas.np module is deprecated and will be removed from pandas in a future version. Import numpy directly instead\n  \n"
     ],
     "output_type": "stream"
    }
   ],
   "source": [
    "# Сформируем DataFrame\n",
    "wine_df = pd.DataFrame(data= pd.np.c_[wine['data'], wine['target']],\n",
    "                     columns= list(wine['feature_names']) + ['target'])"
   ]
  },
  {
   "cell_type": "code",
   "execution_count": 45,
   "metadata": {
    "pycharm": {
     "is_executing": false,
     "name": "#%%\n"
    }
   },
   "outputs": [
    {
     "data": {
      "text/plain": "          alcohol  malic_acid         ash  alcalinity_of_ash   magnesium  \\\ncount  178.000000  178.000000  178.000000         178.000000  178.000000   \nmean    13.000618    2.336348    2.366517          19.494944   99.741573   \nstd      0.811827    1.117146    0.274344           3.339564   14.282484   \nmin     11.030000    0.740000    1.360000          10.600000   70.000000   \n25%     12.362500    1.602500    2.210000          17.200000   88.000000   \n50%     13.050000    1.865000    2.360000          19.500000   98.000000   \n75%     13.677500    3.082500    2.557500          21.500000  107.000000   \nmax     14.830000    5.800000    3.230000          30.000000  162.000000   \n\n       total_phenols  flavanoids  nonflavanoid_phenols  proanthocyanins  \\\ncount     178.000000  178.000000            178.000000       178.000000   \nmean        2.295112    2.029270              0.361854         1.590899   \nstd         0.625851    0.998859              0.124453         0.572359   \nmin         0.980000    0.340000              0.130000         0.410000   \n25%         1.742500    1.205000              0.270000         1.250000   \n50%         2.355000    2.135000              0.340000         1.555000   \n75%         2.800000    2.875000              0.437500         1.950000   \nmax         3.880000    5.080000              0.660000         3.580000   \n\n       color_intensity         hue  od280/od315_of_diluted_wines      proline  \\\ncount       178.000000  178.000000                    178.000000   178.000000   \nmean          5.058090    0.957449                      2.611685   746.893258   \nstd           2.318286    0.228572                      0.709990   314.907474   \nmin           1.280000    0.480000                      1.270000   278.000000   \n25%           3.220000    0.782500                      1.937500   500.500000   \n50%           4.690000    0.965000                      2.780000   673.500000   \n75%           6.200000    1.120000                      3.170000   985.000000   \nmax          13.000000    1.710000                      4.000000  1680.000000   \n\n           target  \ncount  178.000000  \nmean     0.938202  \nstd      0.775035  \nmin      0.000000  \n25%      0.000000  \n50%      1.000000  \n75%      2.000000  \nmax      2.000000  ",
      "text/html": "<div>\n<style scoped>\n    .dataframe tbody tr th:only-of-type {\n        vertical-align: middle;\n    }\n\n    .dataframe tbody tr th {\n        vertical-align: top;\n    }\n\n    .dataframe thead th {\n        text-align: right;\n    }\n</style>\n<table border=\"1\" class=\"dataframe\">\n  <thead>\n    <tr style=\"text-align: right;\">\n      <th></th>\n      <th>alcohol</th>\n      <th>malic_acid</th>\n      <th>ash</th>\n      <th>alcalinity_of_ash</th>\n      <th>magnesium</th>\n      <th>total_phenols</th>\n      <th>flavanoids</th>\n      <th>nonflavanoid_phenols</th>\n      <th>proanthocyanins</th>\n      <th>color_intensity</th>\n      <th>hue</th>\n      <th>od280/od315_of_diluted_wines</th>\n      <th>proline</th>\n      <th>target</th>\n    </tr>\n  </thead>\n  <tbody>\n    <tr>\n      <th>count</th>\n      <td>178.000000</td>\n      <td>178.000000</td>\n      <td>178.000000</td>\n      <td>178.000000</td>\n      <td>178.000000</td>\n      <td>178.000000</td>\n      <td>178.000000</td>\n      <td>178.000000</td>\n      <td>178.000000</td>\n      <td>178.000000</td>\n      <td>178.000000</td>\n      <td>178.000000</td>\n      <td>178.000000</td>\n      <td>178.000000</td>\n    </tr>\n    <tr>\n      <th>mean</th>\n      <td>13.000618</td>\n      <td>2.336348</td>\n      <td>2.366517</td>\n      <td>19.494944</td>\n      <td>99.741573</td>\n      <td>2.295112</td>\n      <td>2.029270</td>\n      <td>0.361854</td>\n      <td>1.590899</td>\n      <td>5.058090</td>\n      <td>0.957449</td>\n      <td>2.611685</td>\n      <td>746.893258</td>\n      <td>0.938202</td>\n    </tr>\n    <tr>\n      <th>std</th>\n      <td>0.811827</td>\n      <td>1.117146</td>\n      <td>0.274344</td>\n      <td>3.339564</td>\n      <td>14.282484</td>\n      <td>0.625851</td>\n      <td>0.998859</td>\n      <td>0.124453</td>\n      <td>0.572359</td>\n      <td>2.318286</td>\n      <td>0.228572</td>\n      <td>0.709990</td>\n      <td>314.907474</td>\n      <td>0.775035</td>\n    </tr>\n    <tr>\n      <th>min</th>\n      <td>11.030000</td>\n      <td>0.740000</td>\n      <td>1.360000</td>\n      <td>10.600000</td>\n      <td>70.000000</td>\n      <td>0.980000</td>\n      <td>0.340000</td>\n      <td>0.130000</td>\n      <td>0.410000</td>\n      <td>1.280000</td>\n      <td>0.480000</td>\n      <td>1.270000</td>\n      <td>278.000000</td>\n      <td>0.000000</td>\n    </tr>\n    <tr>\n      <th>25%</th>\n      <td>12.362500</td>\n      <td>1.602500</td>\n      <td>2.210000</td>\n      <td>17.200000</td>\n      <td>88.000000</td>\n      <td>1.742500</td>\n      <td>1.205000</td>\n      <td>0.270000</td>\n      <td>1.250000</td>\n      <td>3.220000</td>\n      <td>0.782500</td>\n      <td>1.937500</td>\n      <td>500.500000</td>\n      <td>0.000000</td>\n    </tr>\n    <tr>\n      <th>50%</th>\n      <td>13.050000</td>\n      <td>1.865000</td>\n      <td>2.360000</td>\n      <td>19.500000</td>\n      <td>98.000000</td>\n      <td>2.355000</td>\n      <td>2.135000</td>\n      <td>0.340000</td>\n      <td>1.555000</td>\n      <td>4.690000</td>\n      <td>0.965000</td>\n      <td>2.780000</td>\n      <td>673.500000</td>\n      <td>1.000000</td>\n    </tr>\n    <tr>\n      <th>75%</th>\n      <td>13.677500</td>\n      <td>3.082500</td>\n      <td>2.557500</td>\n      <td>21.500000</td>\n      <td>107.000000</td>\n      <td>2.800000</td>\n      <td>2.875000</td>\n      <td>0.437500</td>\n      <td>1.950000</td>\n      <td>6.200000</td>\n      <td>1.120000</td>\n      <td>3.170000</td>\n      <td>985.000000</td>\n      <td>2.000000</td>\n    </tr>\n    <tr>\n      <th>max</th>\n      <td>14.830000</td>\n      <td>5.800000</td>\n      <td>3.230000</td>\n      <td>30.000000</td>\n      <td>162.000000</td>\n      <td>3.880000</td>\n      <td>5.080000</td>\n      <td>0.660000</td>\n      <td>3.580000</td>\n      <td>13.000000</td>\n      <td>1.710000</td>\n      <td>4.000000</td>\n      <td>1680.000000</td>\n      <td>2.000000</td>\n    </tr>\n  </tbody>\n</table>\n</div>"
     },
     "metadata": {},
     "output_type": "execute_result",
     "execution_count": 45
    }
   ],
   "source": [
    "# И выведем его статистические характеристики\n",
    "wine_df.describe()"
   ]
  },
  {
   "cell_type": "code",
   "execution_count": 46,
   "metadata": {
    "pycharm": {
     "is_executing": false,
     "name": "#%%\n"
    }
   },
   "outputs": [],
   "source": [
    "# Разделение данных на обучающую и тестовую выборки\n",
    "wine_X_train, wine_X_test, wine_y_train, wine_y_test = train_test_split(\n",
    "    wine.data, wine.target, test_size=0.3, random_state=1)"
   ]
  },
  {
   "cell_type": "code",
   "execution_count": 47,
   "metadata": {
    "pycharm": {
     "is_executing": false,
     "name": "#%%\n"
    }
   },
   "outputs": [
    {
     "data": {
      "text/plain": "((124, 13), (124,))"
     },
     "metadata": {},
     "output_type": "execute_result",
     "execution_count": 47
    }
   ],
   "source": [
    "# Размер обучающей выборки\n",
    "wine_X_train.shape, wine_y_train.shape\n"
   ]
  },
  {
   "cell_type": "code",
   "execution_count": 48,
   "metadata": {
    "pycharm": {
     "is_executing": false,
     "name": "#%%\n"
    }
   },
   "outputs": [
    {
     "data": {
      "text/plain": "((54, 13), (54,))"
     },
     "metadata": {},
     "output_type": "execute_result",
     "execution_count": 48
    }
   ],
   "source": [
    "# Размер тестовой выборки\n",
    "wine_X_test.shape, wine_y_test.shape"
   ]
  },
  {
   "cell_type": "code",
   "execution_count": 49,
   "metadata": {
    "pycharm": {
     "is_executing": false,
     "name": "#%%\n"
    }
   },
   "outputs": [
    {
     "data": {
      "text/plain": "(54,\n array([0, 1, 2, 1, 0, 1, 2, 0, 2, 1, 0, 2, 1, 0, 2, 1, 1, 0, 1, 0, 0, 1,\n        2, 0, 0, 2, 0, 0, 0, 1, 1, 1, 1, 0, 2, 1, 1, 2, 1, 0, 0, 1, 2, 0,\n        0, 0, 0, 0, 0, 0, 1, 2, 2, 0]))"
     },
     "metadata": {},
     "output_type": "execute_result",
     "execution_count": 49
    }
   ],
   "source": [
    "# 3 ближайших соседа\n",
    "cl1_1 = KNeighborsClassifier(n_neighbors=3)\n",
    "cl1_1.fit(wine_X_train, wine_y_train)\n",
    "target1_1 = cl1_1.predict(wine_X_test)\n",
    "len(target1_1), target1_1"
   ]
  },
  {
   "cell_type": "code",
   "execution_count": 50,
   "metadata": {
    "pycharm": {
     "is_executing": false,
     "name": "#%%\n"
    }
   },
   "outputs": [
    {
     "data": {
      "text/plain": "(54,\n array([1, 1, 2, 2, 0, 1, 2, 0, 2, 1, 0, 2, 1, 0, 2, 1, 1, 0, 1, 0, 0, 1,\n        2, 0, 0, 1, 0, 0, 0, 1, 1, 1, 1, 0, 2, 1, 1, 2, 1, 0, 0, 1, 2, 0,\n        0, 0, 0, 0, 0, 0, 1, 2, 2, 0]))"
     },
     "metadata": {},
     "output_type": "execute_result",
     "execution_count": 50
    }
   ],
   "source": [
    "# 5 ближайших соседей\n",
    "cl1_2 = KNeighborsClassifier(n_neighbors=5)\n",
    "cl1_2.fit(wine_X_train, wine_y_train)\n",
    "target1_2 = cl1_2.predict(wine_X_test)\n",
    "len(target1_2), target1_2"
   ]
  },
  {
   "cell_type": "code",
   "execution_count": 51,
   "metadata": {
    "pycharm": {
     "is_executing": false,
     "name": "#%%\n"
    }
   },
   "outputs": [
    {
     "data": {
      "text/plain": "0.7407407407407407"
     },
     "metadata": {},
     "output_type": "execute_result",
     "execution_count": 51
    }
   ],
   "source": [
    "# wine_y_test - эталонное значение классов из исходной (тестовой) выборки\n",
    "# target* - предсказанное значение классов\n",
    "\n",
    "# 3 ближайших соседа\n",
    "accuracy_score(wine_y_test, target1_1)"
   ]
  },
  {
   "cell_type": "code",
   "execution_count": 52,
   "metadata": {
    "pycharm": {
     "is_executing": false,
     "name": "#%%\n"
    }
   },
   "outputs": [
    {
     "data": {
      "text/plain": "0.7037037037037037"
     },
     "metadata": {},
     "output_type": "execute_result",
     "execution_count": 52
    }
   ],
   "source": [
    "# 5 ближайших соседей\n",
    "accuracy_score(wine_y_test, target1_2)"
   ]
  },
  {
   "cell_type": "code",
   "execution_count": 53,
   "metadata": {
    "pycharm": {
     "is_executing": false,
     "name": "#%%\n"
    }
   },
   "outputs": [
    {
     "name": "stderr",
     "text": [
      "c:\\django_projects\\untitled\\venv\\lib\\site-packages\\ipykernel_launcher.py:2: FutureWarning: The pandas.np module is deprecated and will be removed from pandas in a future version. Import numpy directly instead\n  \n"
     ],
     "output_type": "stream"
    },
    {
     "data": {
      "text/plain": "array([[36,  6],\n       [ 6,  6]], dtype=int64)"
     },
     "metadata": {},
     "output_type": "execute_result",
     "execution_count": 53
    }
   ],
   "source": [
    "# Конвертация целевого признака в бинарный\n",
    "def convert_target_to_binary(array:pd.np.ndarray, target:int) -> pd.np.ndarray:\n",
    "    # Если целевой признак совпадает с указанным, то 1 иначе 0\n",
    "    res = [1 if x==target else 0 for x in array]\n",
    "    return res\n",
    "bin_wine_y_test = convert_target_to_binary(wine_y_test, 2)\n",
    "bin_target1_1 = convert_target_to_binary(target1_1, 2)\n",
    "bin_target1_2 = convert_target_to_binary(target1_2, 2)\n",
    "confusion_matrix(bin_wine_y_test, bin_target1_1, labels=[0, 1])"
   ]
  },
  {
   "cell_type": "code",
   "execution_count": 54,
   "metadata": {
    "pycharm": {
     "is_executing": false,
     "name": "#%%\n"
    }
   },
   "outputs": [
    {
     "data": {
      "text/plain": "(36, 6, 6, 6)"
     },
     "metadata": {},
     "output_type": "execute_result",
     "execution_count": 54
    }
   ],
   "source": [
    "tn, fp, fn, tp = confusion_matrix(bin_wine_y_test, bin_target1_1).ravel()\n",
    "tn, fp, fn, tp"
   ]
  },
  {
   "cell_type": "code",
   "execution_count": 55,
   "metadata": {
    "pycharm": {
     "is_executing": false,
     "name": "#%%\n"
    }
   },
   "outputs": [
    {
     "data": {
      "text/plain": "<sklearn.metrics._plot.confusion_matrix.ConfusionMatrixDisplay at 0xf4bde90>"
     },
     "metadata": {},
     "output_type": "execute_result",
     "execution_count": 55
    },
    {
     "data": {
      "text/plain": "<Figure size 432x288 with 2 Axes>",
      "image/png": "[encoded data removed]"
     },
     "metadata": {},
     "output_type": "display_data"
    }
   ],
   "source": [
    "plot_confusion_matrix(cl1_1, wine_X_test, wine_y_test, \n",
    "                      display_labels=wine.target_names, cmap=plt.cm.Blues)"
   ]
  },
  {
   "cell_type": "code",
   "execution_count": 56,
   "metadata": {
    "pycharm": {
     "is_executing": false,
     "name": "#%%\n"
    }
   },
   "outputs": [
    {
     "data": {
      "text/plain": "<sklearn.metrics._plot.confusion_matrix.ConfusionMatrixDisplay at 0x107389f0>"
     },
     "metadata": {},
     "output_type": "execute_result",
     "execution_count": 56
    },
    {
     "data": {
      "text/plain": "<Figure size 432x288 with 2 Axes>",
      "image/png": "[encoded data removed]"
     },
     "metadata": {},
     "output_type": "display_data"
    }
   ],
   "source": [
    "plot_confusion_matrix(cl1_1, wine_X_test, wine_y_test, \n",
    "                      display_labels=wine.target_names, cmap=plt.cm.Blues, \n",
    "                      normalize='true')"
   ]
  },
  {
   "cell_type": "code",
   "execution_count": 57,
   "metadata": {
    "pycharm": {
     "is_executing": false,
     "name": "#%%\n"
    }
   },
   "outputs": [
    {
     "data": {
      "text/plain": "<Figure size 1080x360 with 4 Axes>",
      "image/png": "[encoded data removed]"
     },
     "metadata": {},
     "output_type": "display_data"
    }
   ],
   "source": [
    "fig, ax = plt.subplots(1, 2, sharex='col', sharey='row', figsize=(15,5))\n",
    "\n",
    "plot_confusion_matrix(cl1_1, wine_X_test, wine_y_test, \n",
    "                      display_labels=wine.target_names, \n",
    "                      cmap=plt.cm.Blues, normalize='true', ax=ax[0])\n",
    "\n",
    "plot_confusion_matrix(cl1_2, wine_X_test, wine_y_test, \n",
    "                      display_labels=wine.target_names, \n",
    "                      cmap=plt.cm.Blues, normalize='true', ax=ax[1])\n",
    "\n",
    "fig.suptitle('Матрицы ошибок')\n",
    "ax[0].title.set_text('K=2')\n",
    "ax[1].title.set_text('K=10')"
   ]
  },
  {
   "cell_type": "code",
   "execution_count": 58,
   "metadata": {
    "pycharm": {
     "is_executing": false,
     "name": "#%%\n"
    }
   },
   "outputs": [
    {
     "data": {
      "text/plain": "(0.5, 0.5)"
     },
     "metadata": {},
     "output_type": "execute_result",
     "execution_count": 58
    }
   ],
   "source": [
    "# По умолчанию метрики считаются для 1 класса бинарной классификации\n",
    "# Для 3 ближайших соседей\n",
    "precision_score(bin_wine_y_test, bin_target1_1), recall_score(bin_wine_y_test, bin_target1_1)\n"
   ]
  },
  {
   "cell_type": "code",
   "execution_count": 59,
   "metadata": {
    "pycharm": {
     "is_executing": false,
     "name": "#%%\n"
    }
   },
   "outputs": [
    {
     "data": {
      "text/plain": "(0.4166666666666667, 0.4166666666666667)"
     },
     "metadata": {},
     "output_type": "execute_result",
     "execution_count": 59
    }
   ],
   "source": [
    "# Для 5 ближайших соседей\n",
    "precision_score(bin_wine_y_test, bin_target1_2), recall_score(bin_wine_y_test, bin_target1_2)\n"
   ]
  },
  {
   "cell_type": "code",
   "execution_count": 60,
   "metadata": {
    "pycharm": {
     "is_executing": false,
     "name": "#%%\n"
    }
   },
   "outputs": [
    {
     "data": {
      "text/plain": "0.7407407407407407"
     },
     "metadata": {},
     "output_type": "execute_result",
     "execution_count": 60
    }
   ],
   "source": [
    "# Параметры TP, TN, FP, FN считаются как сумма по всем классам\n",
    "precision_score(wine_y_test, target1_1, average='micro')"
   ]
  },
  {
   "cell_type": "code",
   "execution_count": 61,
   "metadata": {
    "pycharm": {
     "is_executing": false,
     "name": "#%%\n"
    }
   },
   "outputs": [
    {
     "data": {
      "text/plain": "0.6990740740740741"
     },
     "metadata": {},
     "output_type": "execute_result",
     "execution_count": 61
    }
   ],
   "source": [
    "# Параметры TP, TN, FP, FN считаются отдельно для каждого класса \n",
    "# и берется среднее значение, дисбаланс классов не учитывается.\n",
    "precision_score(wine_y_test, target1_1, average='macro')"
   ]
  },
  {
   "cell_type": "code",
   "execution_count": 62,
   "metadata": {
    "pycharm": {
     "is_executing": false,
     "name": "#%%\n"
    }
   },
   "outputs": [
    {
     "data": {
      "text/plain": "0.7379115226337448"
     },
     "metadata": {},
     "output_type": "execute_result",
     "execution_count": 62
    }
   ],
   "source": [
    "# Параметры TP, TN, FP, FN считаются отдельно для каждого класса \n",
    "# и берется средневзвешенное значение, дисбаланс классов учитывается \n",
    "# в виде веса классов (вес - количество истинных значений каждого класса).\n",
    "precision_score(wine_y_test, target1_1, average='weighted')"
   ]
  },
  {
   "cell_type": "code",
   "execution_count": 63,
   "metadata": {
    "pycharm": {
     "is_executing": false,
     "name": "#%%\n"
    }
   },
   "outputs": [
    {
     "data": {
      "text/plain": "{'class_0': {'precision': 0.875,\n  'recall': 0.9130434782608695,\n  'f1-score': 0.8936170212765957,\n  'support': 23},\n 'class_1': {'precision': 0.7222222222222222,\n  'recall': 0.6842105263157895,\n  'f1-score': 0.7027027027027027,\n  'support': 19},\n 'class_2': {'precision': 0.5, 'recall': 0.5, 'f1-score': 0.5, 'support': 12},\n 'accuracy': 0.7407407407407407,\n 'macro avg': {'precision': 0.6990740740740741,\n  'recall': 0.6990846681922197,\n  'f1-score': 0.6987732413264328,\n  'support': 54},\n 'weighted avg': {'precision': 0.7379115226337448,\n  'recall': 0.7407407407407407,\n  'f1-score': 0.7389730155687603,\n  'support': 54}}"
     },
     "metadata": {},
     "output_type": "execute_result",
     "execution_count": 63
    }
   ],
   "source": [
    "classification_report(wine_y_test, target1_1, \n",
    "                      target_names=wine.target_names, output_dict=True)"
   ]
  },
  {
   "cell_type": "code",
   "execution_count": 64,
   "metadata": {
    "pycharm": {
     "is_executing": false,
     "name": "#%%\n"
    }
   },
   "outputs": [
    {
     "data": {
      "text/plain": "(array([0.        , 0.14285714, 1.        ]),\n array([0. , 0.5, 1. ]),\n array([2, 1, 0]))"
     },
     "metadata": {},
     "output_type": "execute_result",
     "execution_count": 64
    }
   ],
   "source": [
    "fpr, tpr, thresholds = roc_curve(bin_wine_y_test, bin_target1_1, \n",
    "                                 pos_label=1)\n",
    "fpr, tpr, thresholds"
   ]
  },
  {
   "cell_type": "code",
   "execution_count": 65,
   "metadata": {
    "pycharm": {
     "is_executing": false,
     "name": "#%%\n"
    }
   },
   "outputs": [
    {
     "data": {
      "text/plain": "<Figure size 432x288 with 1 Axes>",
      "image/png": "[encoded data removed]"
     },
     "metadata": {},
     "output_type": "display_data"
    },
    {
     "data": {
      "text/plain": "<Figure size 432x288 with 1 Axes>",
      "image/png": "[encoded data removed]"
     },
     "metadata": {},
     "output_type": "display_data"
    }
   ],
   "source": [
    "# Отрисовка ROC-кривой\n",
    "def draw_roc_curve(y_true, y_score, pos_label, average):\n",
    "    fpr, tpr, thresholds = roc_curve(y_true, y_score, \n",
    "                                     pos_label=pos_label)\n",
    "    roc_auc_value = roc_auc_score(y_true, y_score, average=average)\n",
    "    plt.figure()\n",
    "    lw = 2\n",
    "    plt.plot(fpr, tpr, color='darkorange',\n",
    "             lw=lw, label='ROC curve (area = %0.2f)' % roc_auc_value)\n",
    "    plt.plot([0, 1], [0, 1], color='navy', lw=lw, linestyle='--')\n",
    "    plt.xlim([0.0, 1.0])\n",
    "    plt.ylim([0.0, 1.05])\n",
    "    plt.xlabel('False Positive Rate')\n",
    "    plt.ylabel('True Positive Rate')\n",
    "    plt.title('Receiver operating characteristic example')\n",
    "    plt.legend(loc=\"lower right\")\n",
    "    plt.show()\n",
    "\n",
    "# Для 3 ближайших соседей\n",
    "draw_roc_curve(bin_wine_y_test, bin_target1_1, pos_label=1, average='micro')\n",
    "\n",
    "# Для 5 ближайших соседей\n",
    "draw_roc_curve(bin_wine_y_test, bin_target1_2, pos_label=1, average='micro')"
   ]
  },
  {
   "cell_type": "code",
   "execution_count": 66,
   "metadata": {
    "pycharm": {
     "is_executing": false,
     "name": "#%%\n"
    }
   },
   "outputs": [],
   "source": [
    "wine_cross = cross_val_score(KNeighborsClassifier(n_neighbors=2), \n",
    "                         wine.data, wine.target, cv=11)"
   ]
  },
  {
   "cell_type": "code",
   "execution_count": 67,
   "metadata": {
    "pycharm": {
     "is_executing": false,
     "name": "#%%\n"
    }
   },
   "outputs": [
    {
     "data": {
      "text/plain": "array([0.58823529, 0.64705882, 0.6875    , 0.5625    , 0.5625    ,\n       0.625     , 0.8125    , 0.6875    , 0.8125    , 0.75      ,\n       0.75      ])"
     },
     "metadata": {},
     "output_type": "execute_result",
     "execution_count": 67
    }
   ],
   "source": [
    "wine_cross"
   ]
  },
  {
   "cell_type": "code",
   "execution_count": 68,
   "metadata": {
    "pycharm": {
     "is_executing": false,
     "name": "#%%\n"
    }
   },
   "outputs": [
    {
     "name": "stderr",
     "text": [
      "c:\\django_projects\\untitled\\venv\\lib\\site-packages\\ipykernel_launcher.py:1: FutureWarning: The pandas.np module is deprecated and will be removed from pandas in a future version. Import numpy directly instead\n  \"\"\"Entry point for launching an IPython kernel.\n"
     ],
     "output_type": "stream"
    },
    {
     "data": {
      "text/plain": "0.68048128342246"
     },
     "metadata": {},
     "output_type": "execute_result",
     "execution_count": 68
    }
   ],
   "source": [
    "pd.np.mean(wine_cross)"
   ]
  },
  {
   "cell_type": "code",
   "execution_count": 69,
   "metadata": {
    "pycharm": {
     "is_executing": false,
     "name": "#%%\n"
    }
   },
   "outputs": [
    {
     "data": {
      "text/plain": "{'fit_time': array([0.00099993, 0.00099993, 0.00100017]),\n 'score_time': array([0.0090003 , 0.00800061, 0.01100063]),\n 'test_precision': array([0.48984127, 0.62317561, 0.70585516]),\n 'train_precision': array([0.91000807, 0.8877454 , 0.85825075]),\n 'test_recall': array([0.56666667, 0.6440678 , 0.72881356]),\n 'train_recall': array([0.89830508, 0.87394958, 0.83193277]),\n 'test_f1': array([0.51069094, 0.6198816 , 0.6798559 ]),\n 'train_f1': array([0.89415947, 0.8703245 , 0.8181316 ])}"
     },
     "metadata": {},
     "output_type": "execute_result",
     "execution_count": 69
    }
   ],
   "source": [
    "wining = {'precision': 'precision_weighted', \n",
    "           'recall': 'recall_weighted',\n",
    "           'f1': 'f1_weighted'}\n",
    "\n",
    "wine_cross = cross_validate(KNeighborsClassifier(n_neighbors=2), \n",
    "                        wine.data, wine.target, scoring=wining, \n",
    "                        cv=3, return_train_score=True)\n",
    "wine_cross"
   ]
  },
  {
   "cell_type": "code",
   "execution_count": 70,
   "metadata": {
    "pycharm": {
     "is_executing": false,
     "name": "#%%\n"
    }
   },
   "outputs": [
    {
     "name": "stderr",
     "text": [
      "c:\\django_projects\\untitled\\venv\\lib\\site-packages\\ipykernel_launcher.py:1: FutureWarning: The pandas.np module is deprecated and will be removed from pandas in a future version. Import numpy directly instead\n  \"\"\"Entry point for launching an IPython kernel.\n"
     ],
     "output_type": "stream"
    },
    {
     "data": {
      "text/plain": "[{'n_neighbors': array([ 5,  6,  7,  8,  9, 10, 11, 12, 13, 14, 15, 16, 17, 18, 19, 20, 21,\n         22, 23, 24, 25, 26, 27, 28, 29])}]"
     },
     "metadata": {},
     "output_type": "execute_result",
     "execution_count": 70
    }
   ],
   "source": [
    "n_range = pd.np.array(range(5,30,1))\n",
    "tuned_parameters = [{'n_neighbors': n_range}]\n",
    "tuned_parameters"
   ]
  },
  {
   "cell_type": "code",
   "execution_count": 71,
   "metadata": {
    "pycharm": {
     "is_executing": false,
     "name": "#%%\n"
    }
   },
   "outputs": [
    {
     "name": "stdout",
     "text": [
      "Wall time: 586 ms\n"
     ],
     "output_type": "stream"
    },
    {
     "data": {
      "text/plain": "GridSearchCV(cv=5, error_score=nan,\n             estimator=KNeighborsClassifier(algorithm='auto', leaf_size=30,\n                                            metric='minkowski',\n                                            metric_params=None, n_jobs=None,\n                                            n_neighbors=5, p=2,\n                                            weights='uniform'),\n             iid='deprecated', n_jobs=None,\n             param_grid=[{'n_neighbors': array([ 5,  6,  7,  8,  9, 10, 11, 12, 13, 14, 15, 16, 17, 18, 19, 20, 21,\n       22, 23, 24, 25, 26, 27, 28, 29])}],\n             pre_dispatch='2*n_jobs', refit=True, return_train_score=False,\n             scoring='accuracy', verbose=0)"
     },
     "metadata": {},
     "output_type": "execute_result",
     "execution_count": 71
    }
   ],
   "source": [
    "%%time\n",
    "clf_gs = GridSearchCV(KNeighborsClassifier(), tuned_parameters, cv=5, scoring='accuracy')\n",
    "clf_gs.fit(wine_X_train, wine_y_train)"
   ]
  },
  {
   "cell_type": "code",
   "execution_count": 72,
   "metadata": {
    "pycharm": {
     "is_executing": false,
     "name": "#%%\n"
    }
   },
   "outputs": [
    {
     "data": {
      "text/plain": "{'mean_fit_time': array([0.00100012, 0.00080004, 0.0012001 , 0.00099998, 0.00099998,\n        0.00100017, 0.00099998, 0.00080018, 0.00100007, 0.00079999,\n        0.00140023, 0.00080013, 0.00080004, 0.00079999, 0.0006001 ,\n        0.0006    , 0.00060005, 0.00039997, 0.00080009, 0.0006001 ,\n        0.00060005, 0.00100007, 0.00040002, 0.00040002, 0.00060005]),\n 'std_fit_time': array([9.53674316e-08, 4.00018706e-04, 3.99994889e-04, 9.53674316e-08,\n        9.53674316e-08, 0.00000000e+00, 9.53674316e-08, 4.00090228e-04,\n        1.16800773e-07, 3.99994861e-04, 8.00013548e-04, 4.00066404e-04,\n        4.00018706e-04, 3.99994861e-04, 4.89979242e-04, 4.89901382e-04,\n        4.89940316e-04, 4.89862441e-04, 4.00042545e-04, 4.89979265e-04,\n        4.89940339e-04, 1.90734863e-07, 4.89920847e-04, 4.89920847e-04,\n        4.89940339e-04]),\n 'mean_score_time': array([0.00800042, 0.00500026, 0.00360012, 0.00560045, 0.00360017,\n        0.00720038, 0.0032002 , 0.00320015, 0.00260015, 0.00300016,\n        0.00400014, 0.00320015, 0.00300012, 0.00260015, 0.00220008,\n        0.00240016, 0.00240011, 0.00280023, 0.00240011, 0.00240011,\n        0.00240016, 0.00200009, 0.00220027, 0.00220003, 0.00240006]),\n 'std_score_time': array([7.07138476e-03, 2.52992150e-03, 4.89881945e-04, 3.32289953e-03,\n        4.89920847e-04, 7.91001312e-03, 3.99994861e-04, 4.00018706e-04,\n        4.89842988e-04, 6.32560510e-04, 1.26497018e-03, 4.00137912e-04,\n        1.90734863e-07, 4.89842988e-04, 4.00090228e-04, 4.90076589e-04,\n        4.89823515e-04, 3.99947177e-04, 4.89823515e-04, 4.89920847e-04,\n        4.89979242e-04, 0.00000000e+00, 4.00114074e-04, 3.99994861e-04,\n        4.89862441e-04]),\n 'param_n_neighbors': masked_array(data=[5, 6, 7, 8, 9, 10, 11, 12, 13, 14, 15, 16, 17, 18, 19,\n                    20, 21, 22, 23, 24, 25, 26, 27, 28, 29],\n              mask=[False, False, False, False, False, False, False, False,\n                    False, False, False, False, False, False, False, False,\n                    False, False, False, False, False, False, False, False,\n                    False],\n        fill_value='?',\n             dtype=object),\n 'params': [{'n_neighbors': 5},\n  {'n_neighbors': 6},\n  {'n_neighbors': 7},\n  {'n_neighbors': 8},\n  {'n_neighbors': 9},\n  {'n_neighbors': 10},\n  {'n_neighbors': 11},\n  {'n_neighbors': 12},\n  {'n_neighbors': 13},\n  {'n_neighbors': 14},\n  {'n_neighbors': 15},\n  {'n_neighbors': 16},\n  {'n_neighbors': 17},\n  {'n_neighbors': 18},\n  {'n_neighbors': 19},\n  {'n_neighbors': 20},\n  {'n_neighbors': 21},\n  {'n_neighbors': 22},\n  {'n_neighbors': 23},\n  {'n_neighbors': 24},\n  {'n_neighbors': 25},\n  {'n_neighbors': 26},\n  {'n_neighbors': 27},\n  {'n_neighbors': 28},\n  {'n_neighbors': 29}],\n 'split0_test_score': array([0.64, 0.64, 0.6 , 0.6 , 0.64, 0.64, 0.64, 0.64, 0.64, 0.6 , 0.6 ,\n        0.76, 0.76, 0.72, 0.68, 0.76, 0.76, 0.76, 0.72, 0.72, 0.76, 0.76,\n        0.76, 0.76, 0.76]),\n 'split1_test_score': array([0.72, 0.8 , 0.72, 0.8 , 0.76, 0.64, 0.68, 0.76, 0.72, 0.72, 0.76,\n        0.8 , 0.8 , 0.8 , 0.8 , 0.8 , 0.8 , 0.84, 0.8 , 0.76, 0.8 , 0.84,\n        0.8 , 0.76, 0.8 ]),\n 'split2_test_score': array([0.76, 0.8 , 0.76, 0.72, 0.76, 0.76, 0.76, 0.84, 0.8 , 0.84, 0.8 ,\n        0.68, 0.68, 0.68, 0.76, 0.72, 0.72, 0.72, 0.72, 0.72, 0.72, 0.72,\n        0.72, 0.72, 0.72]),\n 'split3_test_score': array([0.68, 0.76, 0.72, 0.76, 0.72, 0.76, 0.72, 0.72, 0.72, 0.64, 0.64,\n        0.64, 0.64, 0.64, 0.64, 0.64, 0.64, 0.68, 0.64, 0.64, 0.64, 0.64,\n        0.64, 0.64, 0.64]),\n 'split4_test_score': array([0.58333333, 0.625     , 0.54166667, 0.5       , 0.58333333,\n        0.58333333, 0.58333333, 0.54166667, 0.66666667, 0.625     ,\n        0.66666667, 0.70833333, 0.75      , 0.79166667, 0.75      ,\n        0.75      , 0.75      , 0.75      , 0.75      , 0.75      ,\n        0.66666667, 0.70833333, 0.625     , 0.70833333, 0.625     ]),\n 'mean_test_score': array([0.67666667, 0.725     , 0.66833333, 0.676     , 0.69266667,\n        0.67666667, 0.67666667, 0.70033333, 0.70933333, 0.685     ,\n        0.69333333, 0.71766667, 0.726     , 0.72633333, 0.726     ,\n        0.734     , 0.734     , 0.75      , 0.726     , 0.718     ,\n        0.71733333, 0.73366667, 0.709     , 0.71766667, 0.709     ]),\n 'std_test_score': array([0.06146363, 0.0770714 , 0.08301272, 0.1105622 , 0.07006029,\n        0.07111806, 0.06146363, 0.10224372, 0.05491003, 0.08729261,\n        0.07495184, 0.05676071, 0.05782733, 0.0621861 , 0.05782733,\n        0.05351635, 0.05351635, 0.05291503, 0.052     , 0.04214262,\n        0.05866667, 0.06573009, 0.06755738, 0.04406561, 0.06755738]),\n 'rank_test_score': array([21,  9, 25, 24, 19, 22, 22, 17, 14, 20, 18, 11,  6,  5,  6,  2,  2,\n         1,  6, 10, 13,  4, 15, 11, 15], dtype=int32)}"
     },
     "metadata": {},
     "output_type": "execute_result",
     "execution_count": 72
    }
   ],
   "source": [
    "clf_gs.cv_results_"
   ]
  },
  {
   "cell_type": "code",
   "execution_count": 73,
   "metadata": {
    "pycharm": {
     "is_executing": false,
     "name": "#%%\n"
    }
   },
   "outputs": [
    {
     "data": {
      "text/plain": "KNeighborsClassifier(algorithm='auto', leaf_size=30, metric='minkowski',\n                     metric_params=None, n_jobs=None, n_neighbors=22, p=2,\n                     weights='uniform')"
     },
     "metadata": {},
     "output_type": "execute_result",
     "execution_count": 73
    }
   ],
   "source": [
    "# Лучшая модель\n",
    "clf_gs.best_estimator_"
   ]
  },
  {
   "cell_type": "code",
   "execution_count": 74,
   "metadata": {
    "pycharm": {
     "is_executing": false,
     "name": "#%%\n"
    }
   },
   "outputs": [
    {
     "data": {
      "text/plain": "0.7500000000000001"
     },
     "metadata": {},
     "output_type": "execute_result",
     "execution_count": 74
    }
   ],
   "source": [
    "# Лучшее значение метрики\n",
    "clf_gs.best_score_"
   ]
  },
  {
   "cell_type": "code",
   "execution_count": 75,
   "metadata": {
    "pycharm": {
     "is_executing": false,
     "name": "#%%\n"
    }
   },
   "outputs": [
    {
     "data": {
      "text/plain": "{'n_neighbors': 22}"
     },
     "metadata": {},
     "output_type": "execute_result",
     "execution_count": 75
    }
   ],
   "source": [
    "# Лучшее значение параметров\n",
    "clf_gs.best_params_\n",
    "\n",
    "\n",
    "\n"
   ]
  }
 ],
 "metadata": {
  "kernelspec": {
   "display_name": "Python 3",
   "language": "python",
   "name": "python3"
  },
  "language_info": {
   "codemirror_mode": {
    "name": "ipython",
    "version": 3
   },
   "file_extension": ".py",
   "mimetype": "text/x-python",
   "name": "python",
   "nbconvert_exporter": "python",
   "pygments_lexer": "ipython3",
   "version": "3.7.4"
  },
  "pycharm": {
   "stem_cell": {
    "cell_type": "raw",
    "source": [],
    "metadata": {
     "collapsed": false
    }
   }
  }
 },
 "nbformat": 4,
 "nbformat_minor": 1
}