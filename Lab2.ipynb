{
 "cells": [
  {
   "cell_type": "code",
   "execution_count": 23,
   "metadata": {
    "collapsed": true,
    "pycharm": {
     "is_executing": false
    }
   },
   "outputs": [],
   "source": [
    "import numpy as np\n",
    "import pandas as pd\n",
    "pd.set_option('display.max.columns', 100)\n",
    "# to draw pictures in jupyter notebook\n",
    "%matplotlib inline \n",
    "import matplotlib.pyplot as plt\n",
    "import seaborn as sns\n",
    "# we don't like warnings\n",
    "# you can comment the following 2 lines if you'd like to\n",
    "import warnings\n",
    "warnings.filterwarnings('ignore')"
   ]
  },
  {
   "cell_type": "code",
   "execution_count": 24,
   "outputs": [
    {
     "data": {
      "text/plain": "   age         workclass  fnlwgt  education  education-num  \\\n0   39         State-gov   77516  Bachelors             13   \n1   50  Self-emp-not-inc   83311  Bachelors             13   \n2   38           Private  215646    HS-grad              9   \n3   53           Private  234721       11th              7   \n4   28           Private  338409  Bachelors             13   \n\n       marital-status         occupation   relationship   race     sex  \\\n0       Never-married       Adm-clerical  Not-in-family  White    Male   \n1  Married-civ-spouse    Exec-managerial        Husband  White    Male   \n2            Divorced  Handlers-cleaners  Not-in-family  White    Male   \n3  Married-civ-spouse  Handlers-cleaners        Husband  Black    Male   \n4  Married-civ-spouse     Prof-specialty           Wife  Black  Female   \n\n   capital-gain  capital-loss  hours-per-week native-country salary  \n0          2174             0              40  United-States  <=50K  \n1             0             0              13  United-States  <=50K  \n2             0             0              40  United-States  <=50K  \n3             0             0              40  United-States  <=50K  \n4             0             0              40           Cuba  <=50K  ",
      "text/html": "<div>\n<style scoped>\n    .dataframe tbody tr th:only-of-type {\n        vertical-align: middle;\n    }\n\n    .dataframe tbody tr th {\n        vertical-align: top;\n    }\n\n    .dataframe thead th {\n        text-align: right;\n    }\n</style>\n<table border=\"1\" class=\"dataframe\">\n  <thead>\n    <tr style=\"text-align: right;\">\n      <th></th>\n      <th>age</th>\n      <th>workclass</th>\n      <th>fnlwgt</th>\n      <th>education</th>\n      <th>education-num</th>\n      <th>marital-status</th>\n      <th>occupation</th>\n      <th>relationship</th>\n      <th>race</th>\n      <th>sex</th>\n      <th>capital-gain</th>\n      <th>capital-loss</th>\n      <th>hours-per-week</th>\n      <th>native-country</th>\n      <th>salary</th>\n    </tr>\n  </thead>\n  <tbody>\n    <tr>\n      <th>0</th>\n      <td>39</td>\n      <td>State-gov</td>\n      <td>77516</td>\n      <td>Bachelors</td>\n      <td>13</td>\n      <td>Never-married</td>\n      <td>Adm-clerical</td>\n      <td>Not-in-family</td>\n      <td>White</td>\n      <td>Male</td>\n      <td>2174</td>\n      <td>0</td>\n      <td>40</td>\n      <td>United-States</td>\n      <td>&lt;=50K</td>\n    </tr>\n    <tr>\n      <th>1</th>\n      <td>50</td>\n      <td>Self-emp-not-inc</td>\n      <td>83311</td>\n      <td>Bachelors</td>\n      <td>13</td>\n      <td>Married-civ-spouse</td>\n      <td>Exec-managerial</td>\n      <td>Husband</td>\n      <td>White</td>\n      <td>Male</td>\n      <td>0</td>\n      <td>0</td>\n      <td>13</td>\n      <td>United-States</td>\n      <td>&lt;=50K</td>\n    </tr>\n    <tr>\n      <th>2</th>\n      <td>38</td>\n      <td>Private</td>\n      <td>215646</td>\n      <td>HS-grad</td>\n      <td>9</td>\n      <td>Divorced</td>\n      <td>Handlers-cleaners</td>\n      <td>Not-in-family</td>\n      <td>White</td>\n      <td>Male</td>\n      <td>0</td>\n      <td>0</td>\n      <td>40</td>\n      <td>United-States</td>\n      <td>&lt;=50K</td>\n    </tr>\n    <tr>\n      <th>3</th>\n      <td>53</td>\n      <td>Private</td>\n      <td>234721</td>\n      <td>11th</td>\n      <td>7</td>\n      <td>Married-civ-spouse</td>\n      <td>Handlers-cleaners</td>\n      <td>Husband</td>\n      <td>Black</td>\n      <td>Male</td>\n      <td>0</td>\n      <td>0</td>\n      <td>40</td>\n      <td>United-States</td>\n      <td>&lt;=50K</td>\n    </tr>\n    <tr>\n      <th>4</th>\n      <td>28</td>\n      <td>Private</td>\n      <td>338409</td>\n      <td>Bachelors</td>\n      <td>13</td>\n      <td>Married-civ-spouse</td>\n      <td>Prof-specialty</td>\n      <td>Wife</td>\n      <td>Black</td>\n      <td>Female</td>\n      <td>0</td>\n      <td>0</td>\n      <td>40</td>\n      <td>Cuba</td>\n      <td>&lt;=50K</td>\n    </tr>\n  </tbody>\n</table>\n</div>"
     },
     "metadata": {},
     "output_type": "execute_result",
     "execution_count": 24
    }
   ],
   "source": [
    "data = pd.read_csv('data/adult.data.csv')\n",
    "data.head()"
   ],
   "metadata": {
    "collapsed": false,
    "pycharm": {
     "name": "#%%\n",
     "is_executing": false
    }
   }
  },
  {
   "cell_type": "code",
   "execution_count": 25,
   "outputs": [
    {
     "data": {
      "text/plain": "<bound method IndexOpsMixin.value_counts of 0          Male\n1          Male\n2          Male\n3          Male\n4        Female\n          ...  \n32556    Female\n32557      Male\n32558    Female\n32559      Male\n32560    Female\nName: sex, Length: 32561, dtype: object>"
     },
     "metadata": {},
     "output_type": "execute_result",
     "execution_count": 25
    }
   ],
   "source": [
    "data['sex'].value_counts"
   ],
   "metadata": {
    "collapsed": false,
    "pycharm": {
     "name": "#%%\n",
     "is_executing": false
    }
   }
  },
  {
   "cell_type": "code",
   "execution_count": 62,
   "outputs": [
    {
     "data": {
      "text/plain": "36.85823043357163"
     },
     "metadata": {},
     "output_type": "execute_result",
     "execution_count": 62
    }
   ],
   "source": [
    "data.loc[data['sex'] == 'Female', 'age'].mean()"
   ],
   "metadata": {
    "collapsed": false,
    "pycharm": {
     "name": "#%%\n",
     "is_executing": false
    }
   }
  },
  {
   "cell_type": "code",
   "execution_count": 30,
   "outputs": [
    {
     "data": {
      "text/plain": "0.004207487485028101"
     },
     "metadata": {},
     "output_type": "execute_result",
     "execution_count": 30
    }
   ],
   "source": [
    "float((data['native-country'] == 'Germany').sum()) / data.shape[0]"
   ],
   "metadata": {
    "collapsed": false,
    "pycharm": {
     "name": "#%%\n",
     "is_executing": false
    }
   }
  },
  {
   "cell_type": "code",
   "execution_count": 41,
   "outputs": [
    {
     "name": "stdout",
     "text": [
      "The average age of the rich: 44.0 +/- 10.5 years, poor - 37.0 +/- 14.0 years.\n"
     ],
     "output_type": "stream"
    }
   ],
   "source": [
    "ages1 = data.loc[data['salary'] == '>50K', 'age']\n",
    "ages2 = data.loc[data['salary'] == '<=50K', 'age']\n",
    "print(\"The average age of the rich: {0} +/- {1} years, poor - {2} +/- {3} years.\".format(\n",
    "    round(ages1.mean()), round(ages1.std(), 1),\n",
    "    round(ages2.mean()), round(ages2.std(), 1)))"
   ],
   "metadata": {
    "collapsed": false,
    "pycharm": {
     "name": "#%%\n",
     "is_executing": false
    }
   }
  },
  {
   "cell_type": "code",
   "execution_count": 42,
   "outputs": [
    {
     "data": {
      "text/plain": "array(['HS-grad', 'Masters', 'Bachelors', 'Some-college', 'Assoc-voc',\n       'Doctorate', 'Prof-school', 'Assoc-acdm', '7th-8th', '12th',\n       '10th', '11th', '9th', '5th-6th', '1st-4th'], dtype=object)"
     },
     "metadata": {},
     "output_type": "execute_result",
     "execution_count": 42
    }
   ],
   "source": [
    "data.loc[data['salary'] == '>50K', 'education'].unique()"
   ],
   "metadata": {
    "collapsed": false,
    "pycharm": {
     "name": "#%%\n",
     "is_executing": false
    }
   }
  },
  {
   "cell_type": "code",
   "execution_count": 34,
   "outputs": [
    {
     "name": "stdout",
     "text": [
      "Race: Amer-Indian-Eskimo, sex: Female\ncount    119.000000\nmean      37.117647\nstd       13.114991\nmin       17.000000\n25%       27.000000\n50%       36.000000\n75%       46.000000\nmax       80.000000\nName: age, dtype: float64\nRace: Amer-Indian-Eskimo, sex: Male\ncount    192.000000\nmean      37.208333\nstd       12.049563\nmin       17.000000\n25%       28.000000\n50%       35.000000\n75%       45.000000\nmax       82.000000\nName: age, dtype: float64\nRace: Asian-Pac-Islander, sex: Female\ncount    346.000000\nmean      35.089595\nstd       12.300845\nmin       17.000000\n25%       25.000000\n50%       33.000000\n75%       43.750000\nmax       75.000000\nName: age, dtype: float64\nRace: Asian-Pac-Islander, sex: Male\ncount    693.000000\nmean      39.073593\nstd       12.883944\nmin       18.000000\n25%       29.000000\n50%       37.000000\n75%       46.000000\nmax       90.000000\nName: age, dtype: float64\nRace: Black, sex: Female\ncount    1555.000000\nmean       37.854019\nstd        12.637197\nmin        17.000000\n25%        28.000000\n50%        37.000000\n75%        46.000000\nmax        90.000000\nName: age, dtype: float64\nRace: Black, sex: Male\ncount    1569.000000\nmean       37.682600\nstd        12.882612\nmin        17.000000\n25%        27.000000\n50%        36.000000\n75%        46.000000\nmax        90.000000\nName: age, dtype: float64\nRace: Other, sex: Female\ncount    109.000000\nmean      31.678899\nstd       11.631599\nmin       17.000000\n25%       23.000000\n50%       29.000000\n75%       39.000000\nmax       74.000000\nName: age, dtype: float64\nRace: Other, sex: Male\ncount    162.000000\nmean      34.654321\nstd       11.355531\nmin       17.000000\n25%       26.000000\n50%       32.000000\n75%       42.000000\nmax       77.000000\nName: age, dtype: float64\nRace: White, sex: Female\ncount    8642.000000\nmean       36.811618\nstd        14.329093\nmin        17.000000\n25%        25.000000\n50%        35.000000\n75%        46.000000\nmax        90.000000\nName: age, dtype: float64\nRace: White, sex: Male\ncount    19174.000000\nmean        39.652498\nstd         13.436029\nmin         17.000000\n25%         29.000000\n50%         38.000000\n75%         49.000000\nmax         90.000000\nName: age, dtype: float64\n"
     ],
     "output_type": "stream"
    }
   ],
   "source": [
    "for (race, sex), sub_df in data.groupby(['race', 'sex']):\n",
    "    print(\"Race: {0}, sex: {1}\".format(race, sex))\n",
    "    print(sub_df['age'].describe())"
   ],
   "metadata": {
    "collapsed": false,
    "pycharm": {
     "name": "#%%\n",
     "is_executing": false
    }
   }
  },
  {
   "cell_type": "code",
   "execution_count": 63,
   "outputs": [
    {
     "data": {
      "text/plain": "<=50K    7552\n>50K      697\nName: salary, dtype: int64"
     },
     "metadata": {},
     "output_type": "execute_result",
     "execution_count": 63
    }
   ],
   "source": [
    "data.loc[(data['sex'] == 'Male') &\n",
    "     (data['marital-status'].isin(['Never-married', \n",
    "                                   'Separated', \n",
    "                                   'Divorced',\n",
    "                                   'Widowed'])), 'salary'].value_counts()"
   ],
   "metadata": {
    "collapsed": false,
    "pycharm": {
     "name": "#%%\n",
     "is_executing": false
    }
   }
  },
  {
   "cell_type": "code",
   "execution_count": 72,
   "outputs": [
    {
     "data": {
      "text/plain": "<=50K    7576\n>50K     5965\nName: salary, dtype: int64"
     },
     "metadata": {},
     "output_type": "execute_result",
     "execution_count": 72
    }
   ],
   "source": [
    "data.loc[(data['sex'] == 'Male') &\n",
    "     (data['marital-status'].str.startswith('Married')), 'salary'].value_counts()"
   ],
   "metadata": {
    "collapsed": false,
    "pycharm": {
     "name": "#%%\n",
     "is_executing": false
    }
   }
  },
  {
   "cell_type": "code",
   "execution_count": 35,
   "outputs": [
    {
     "data": {
      "text/plain": "Married-civ-spouse       14976\nNever-married            10683\nDivorced                  4443\nSeparated                 1025\nWidowed                    993\nMarried-spouse-absent      418\nMarried-AF-spouse           23\nName: marital-status, dtype: int64"
     },
     "metadata": {},
     "output_type": "execute_result",
     "execution_count": 35
    }
   ],
   "source": [
    "data['marital-status'].value_counts()"
   ],
   "metadata": {
    "collapsed": false,
    "pycharm": {
     "name": "#%%\n",
     "is_executing": false
    }
   }
  },
  {
   "cell_type": "code",
   "execution_count": 82,
   "outputs": [
    {
     "name": "stdout",
     "text": [
      "Max time - 99 hours./week.\nTotal number of such hard workers 85\nPercentage of rich among them 29%\n"
     ],
     "output_type": "stream"
    }
   ],
   "source": [
    "max_load = data['hours-per-week'].max()\n",
    "print(\"Max time - {0} hours./week.\".format(max_load))\n",
    "\n",
    "num_workaholics = data[data['hours-per-week'] == max_load].shape[0]\n",
    "print(\"Total number of such hard workers {0}\".format(num_workaholics))\n",
    "\n",
    "rich_share = float(data[(data['hours-per-week'] == max_load)\n",
    "                 & (data['salary'] == '>50K')].shape[0]) / num_workaholics\n",
    "print(\"Percentage of rich among them {0}%\".format(int(100 * rich_share)))"
   ],
   "metadata": {
    "collapsed": false,
    "pycharm": {
     "name": "#%%\n",
     "is_executing": false
    }
   }
  },
  {
   "cell_type": "code",
   "execution_count": 36,
   "outputs": [
    {
     "name": "stdout",
     "text": [
      "? <=50K 40.16\n? >50K 45.55\nCambodia <=50K 41.42\nCambodia >50K 40.0\nCanada <=50K 37.91\nCanada >50K 45.64\nChina <=50K 37.38\nChina >50K 38.9\nColumbia <=50K 38.68\nColumbia >50K 50.0\nCuba <=50K 37.99\nCuba >50K 42.44\nDominican-Republic <=50K 42.34\nDominican-Republic >50K 47.0\nEcuador <=50K 38.04\nEcuador >50K 48.75\nEl-Salvador <=50K 36.03\nEl-Salvador >50K 45.0\nEngland <=50K 40.48\nEngland >50K 44.53\nFrance <=50K 41.06\nFrance >50K 50.75\nGermany <=50K 39.14\nGermany >50K 44.98\nGreece <=50K 41.81\nGreece >50K 50.62\nGuatemala <=50K 39.36\nGuatemala >50K 36.67\nHaiti <=50K 36.33\nHaiti >50K 42.75\nHoland-Netherlands <=50K 40.0\nHonduras <=50K 34.33\nHonduras >50K 60.0\nHong <=50K 39.14\nHong >50K 45.0\nHungary <=50K 31.3\nHungary >50K 50.0\nIndia <=50K 38.23\nIndia >50K 46.48\nIran <=50K 41.44\nIran >50K 47.5\nIreland <=50K 40.95\nIreland >50K 48.0\nItaly <=50K 39.62\nItaly >50K 45.4\nJamaica <=50K 38.24\nJamaica >50K 41.1\nJapan <=50K 41.0\nJapan >50K 47.96\nLaos <=50K 40.38\nLaos >50K 40.0\nMexico <=50K 40.0\nMexico >50K 46.58\nNicaragua <=50K 36.09\nNicaragua >50K 37.5\nOutlying-US(Guam-USVI-etc) <=50K 41.86\nPeru <=50K 35.07\nPeru >50K 40.0\nPhilippines <=50K 38.07\nPhilippines >50K 43.03\nPoland <=50K 38.17\nPoland >50K 39.0\nPortugal <=50K 41.94\nPortugal >50K 41.5\nPuerto-Rico <=50K 38.47\nPuerto-Rico >50K 39.42\nScotland <=50K 39.44\nScotland >50K 46.67\nSouth <=50K 40.16\nSouth >50K 51.44\nTaiwan <=50K 33.77\nTaiwan >50K 46.8\nThailand <=50K 42.87\nThailand >50K 58.33\nTrinadad&Tobago <=50K 37.06\nTrinadad&Tobago >50K 40.0\nUnited-States <=50K 38.8\nUnited-States >50K 45.51\nVietnam <=50K 37.19\nVietnam >50K 39.2\nYugoslavia <=50K 41.6\nYugoslavia >50K 49.5\n"
     ],
     "output_type": "stream"
    }
   ],
   "source": [
    "for (country, salary), sub_df in data.groupby(['native-country', 'salary']):\n",
    "    print(country, salary, round(sub_df['hours-per-week'].mean(), 2))"
   ],
   "metadata": {
    "collapsed": false,
    "pycharm": {
     "name": "#%%\n",
     "is_executing": false
    }
   }
  },
  {
   "cell_type": "code",
   "execution_count": 1,
   "outputs": [
    {
     "traceback": [
      "\u001b[1;31m---------------------------------------------------------------------------\u001b[0m",
      "\u001b[1;31mNameError\u001b[0m                                 Traceback (most recent call last)",
      "\u001b[1;32m<ipython-input-1-f6fa3de1b06d>\u001b[0m in \u001b[0;36m<module>\u001b[1;34m\u001b[0m\n\u001b[1;32m----> 1\u001b[1;33m pd.crosstab(data['native-country'], data['salary'], \n\u001b[0m\u001b[0;32m      2\u001b[0m            values=data['hours-per-week'], aggfunc=np.mean).T\n\u001b[0;32m      3\u001b[0m \u001b[1;33m\u001b[0m\u001b[0m\n",
      "\u001b[1;31mNameError\u001b[0m: name 'pd' is not defined"
     ],
     "ename": "NameError",
     "evalue": "name 'pd' is not defined",
     "output_type": "error"
    }
   ],
   "source": [
    "pd.crosstab(data['native-country'], data['salary'], \n",
    "           values=data['hours-per-week'], aggfunc=np.mean).T\n"
   ],
   "metadata": {
    "collapsed": false,
    "pycharm": {
     "name": "#%%\n",
     "is_executing": false
    }
   }
  }
 ],
 "metadata": {
  "kernelspec": {
   "display_name": "Python 3",
   "language": "python",
   "name": "python3"
  },
  "language_info": {
   "codemirror_mode": {
    "name": "ipython",
    "version": 2
   },
   "file_extension": ".py",
   "mimetype": "text/x-python",
   "name": "python",
   "nbconvert_exporter": "python",
   "pygments_lexer": "ipython2",
   "version": "2.7.6"
  },
  "pycharm": {
   "stem_cell": {
    "cell_type": "raw",
    "source": [],
    "metadata": {
     "collapsed": false
    }
   }
  }
 },
 "nbformat": 4,
 "nbformat_minor": 0
}